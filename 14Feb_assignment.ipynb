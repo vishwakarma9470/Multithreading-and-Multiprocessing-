{
 "cells": [
  {
   "cell_type": "markdown",
   "id": "a9f60ed2-5c9b-45b9-afea-6081ade58ff9",
   "metadata": {},
   "source": [
    "#### Q1). What is multithreading in python? Why is it used? Name the module used to handle threads in python\n"
   ]
  },
  {
   "cell_type": "markdown",
   "id": "edacbd06-ebe6-4513-9ae9-3f044f3c8f07",
   "metadata": {},
   "source": [
    "Multithreading in Python is a popular technique that enables multiple tasks to be executed simultaneously i.e the ability of a processor to execute multiple threads simultaneously is known as multithreading.\n",
    "\n",
    "Python multithreading facilitates sharing data space and resources of multiple threads with the main thread. It allows efficient and easy communication between the threads.\n",
    "\n",
    "The goal of multithreading is to complete multiple tasks at the same time, which improves application rendering and performance.\n",
    "\n",
    "Programmers can run multiple subtasks of an application at the same time by using multithreading. It lets threads talk to the same processor and share resources like files, data, and memory and it makes it easier for the user to continue running a program even when a portion of it is blocked or too long.\n",
    "\n",
    "The module used to handle threads in python is the threading and thread module but the thread module is discontinuted in python 3 and threading module has all the methods of thread module along with additional methods"
   ]
  },
  {
   "cell_type": "markdown",
   "id": "93dfee94-61ab-40db-b068-f52f0f352f67",
   "metadata": {},
   "source": [
    "#### Q2) Why threading module used? Write the use of the following functions\n",
    "a.)activeCount\n",
    "\n",
    "b.)currentThread\n",
    "\n",
    "c.)enumerate"
   ]
  },
  {
   "cell_type": "markdown",
   "id": "c3bfc09f-bfed-4a2b-928a-79084977ad34",
   "metadata": {},
   "source": [
    "The threading module in Python is used for creating and managing threads, allowing concurrent execution of code. Here's what each function does:\n",
    "\n",
    "a.) activeCount()\n",
    "Use: Returns the number of Thread objects currently alive. This is useful for monitoring or managing thread activity.\n",
    "\n",
    "b.) currentThread()\n",
    "Use: Returns the Thread object representing the current thread. It's helpful for identifying or managing the current thread within a multi-threaded application.\n",
    "\n",
    "c.) enumerate()\n",
    "Use: Returns a list of all Thread objects currently alive. This function can be used to get a snapshot of all active threads, which is useful for debugging or logging purposes.\n",
    "\n",
    "These functions help in managing and monitoring threads within a Python application."
   ]
  },
  {
   "cell_type": "code",
   "execution_count": 1,
   "id": "71af9ef2-8b51-4f05-a99f-734b8f087ea9",
   "metadata": {},
   "outputs": [
    {
     "name": "stdout",
     "output_type": "stream",
     "text": [
      "Thread 1 is running\n",
      "Thread 2 is running\n",
      "Number of active threads: 9\n"
     ]
    },
    {
     "name": "stderr",
     "output_type": "stream",
     "text": [
      "C:\\Users\\dhane\\AppData\\Local\\Temp\\ipykernel_4760\\4202306684.py:19: DeprecationWarning: activeCount() is deprecated, use active_count() instead\n",
      "  num_active_threads = threading.activeCount()\n"
     ]
    }
   ],
   "source": [
    "#Example Implementation of activecount()\n",
    "\n",
    "import threading\n",
    "\n",
    "# Define functions to be used as thread targets\n",
    "def my_function1():\n",
    "    print(\"Thread 1 is running\")\n",
    "\n",
    "def my_function2():\n",
    "    print(\"Thread 2 is running\")\n",
    "    \n",
    "# Create and start multiple threads\n",
    "thread1 = threading.Thread(target=my_function1)\n",
    "thread2 = threading.Thread(target=my_function2)\n",
    "thread1.start()\n",
    "thread2.start()\n",
    "\n",
    "# Get the number of active threads\n",
    "num_active_threads = threading.activeCount()\n",
    "print(\"Number of active threads:\", num_active_threads)"
   ]
  },
  {
   "cell_type": "code",
   "execution_count": 2,
   "id": "21b51157-32bc-459f-8e67-aa27433777c4",
   "metadata": {},
   "outputs": [
    {
     "name": "stdout",
     "output_type": "stream",
     "text": [
      "Current thread name: Thread 1\n",
      "Current thread name: Thread 2\n"
     ]
    },
    {
     "name": "stderr",
     "output_type": "stream",
     "text": [
      "C:\\Users\\dhane\\AppData\\Local\\Temp\\ipykernel_4760\\439700827.py:5: DeprecationWarning: currentThread() is deprecated, use current_thread() instead\n",
      "  current_thread = threading.currentThread()\n"
     ]
    }
   ],
   "source": [
    "#Example Implementation of currentThread()\n",
    "import threading\n",
    "\n",
    "def print_current_thread_name():\n",
    "    current_thread = threading.currentThread()\n",
    "    print(\"Current thread name:\", current_thread.name)\n",
    "\n",
    "thread1 = threading.Thread(target=print_current_thread_name, name=\"Thread 1\")\n",
    "thread2 = threading.Thread(target=print_current_thread_name, name=\"Thread 2\")\n",
    "\n",
    "thread1.start()\n",
    "thread2.start()"
   ]
  },
  {
   "cell_type": "code",
   "execution_count": 3,
   "id": "a0152118-e1c6-4088-9195-590b6db70771",
   "metadata": {},
   "outputs": [
    {
     "name": "stdout",
     "output_type": "stream",
     "text": [
      "Active thread: MainThread\n",
      "Active thread: Tornado selector\n",
      "Active thread: Tornado selector\n",
      "Active thread: IOPub\n",
      "Active thread: Heartbeat\n",
      "Active thread: Tornado selector\n",
      "Active thread: Control\n",
      "Active thread: IPythonHistorySavingThread\n",
      "Active thread: Thread-4\n"
     ]
    }
   ],
   "source": [
    "#Example Implementation of enumerate()\n",
    "import threading\n",
    "\n",
    "def my_function():\n",
    "    pass\n",
    "\n",
    "thread1 = threading.Thread(target=my_function)\n",
    "thread2 = threading.Thread(target=my_function)\n",
    "\n",
    "thread1.start()\n",
    "thread2.start()\n",
    "\n",
    "# Get a list of all currently active threads\n",
    "active_threads = threading.enumerate()\n",
    "for thread in active_threads:\n",
    "    print(\"Active thread:\", thread.name)"
   ]
  },
  {
   "cell_type": "markdown",
   "id": "ec0ef361-d3a7-4289-9cb1-daa42e2628e1",
   "metadata": {},
   "source": [
    "#### Q3. Explain the following functions\r\n",
    "run()\r\n",
    "start()\r\n",
    "join()\r\n",
    "isAlive()"
   ]
  },
  {
   "cell_type": "markdown",
   "id": "635e3e29-013d-45e8-bcbc-62bccfa26c7f",
   "metadata": {},
   "source": [
    "The functions run(), start(), join(), and isAlive() are related to working with threads in a multithreaded programming environment, often associated with languages like Python that provide support for multithreading. These functions are commonly used when working with threads to control their execution and query their states.\n",
    "\n",
    "run():\n",
    "\n",
    "The run() method is not typically directly invoked by the programmer when working with threads. Instead, it is a method that can be overridden in a custom class that extends the Thread class (or implements the Runnable interface in Java). The custom class represents the thread's behavior.\n",
    "When the thread is started using the start() method (explained below), the run() method of the custom class is automatically executed in the new thread. It contains the code that defines the task or behavior of the thread.\n",
    "start():\n",
    "\n",
    "The start() method is used to begin the execution of a thread.\n",
    "It allocates system resources for the new thread.\n",
    "It invokes the run() method of the thread's target, effectively starting the execution of the thread.\n",
    "It allows the thread to run concurrently with other threads.\n",
    "It's important to note that you should call start() on a thread object, not directly on the Thread class.\n",
    "join():\n",
    "\n",
    "The join() method is used to wait for a thread to complete its execution. When you call join() on a thread, the program will block (pause) until the thread being joined finishes its task.\n",
    "This method is often used to ensure that the main program doesn't proceed further until the thread has completed its work. It's useful for synchronizing the execution of threads.\n",
    "isAlive():\n",
    "\n",
    "The isAlive() method is used to check whether a thread is currently running or has completed its execution. It returns True if the thread is alive (running) and False if it has terminated.\n",
    "This method can be helpful for monitoring the state of threads and making decisions based on their status.\n",
    "These functions are essential for managing and controlling the execution of threads in multithreaded programs, enabling concurrent execution of tasks and synchronization when necessary."
   ]
  },
  {
   "cell_type": "code",
   "execution_count": 4,
   "id": "ff49b563-c798-4a4a-9978-636d7faf7af0",
   "metadata": {},
   "outputs": [
    {
     "name": "stdout",
     "output_type": "stream",
     "text": [
      "Thread is running\n"
     ]
    }
   ],
   "source": [
    "#Example Implementation of run()\n",
    "import threading\n",
    "\n",
    "class MyThread(threading.Thread):\n",
    "    def run(self):\n",
    "        # Code to be executed in the thread\n",
    "        print(\"Thread is running\")\n",
    "\n",
    "my_thread = MyThread()\n",
    "my_thread.start()  # This starts the thread and invokes the run() method."
   ]
  },
  {
   "cell_type": "code",
   "execution_count": 5,
   "id": "a08f294d-67b4-4aa3-9318-2c830de6acff",
   "metadata": {},
   "outputs": [
    {
     "name": "stdout",
     "output_type": "stream",
     "text": [
      "Thread is running\n"
     ]
    }
   ],
   "source": [
    "#Example Implementation of start()\n",
    "import threading\n",
    "\n",
    "def thread_function():\n",
    "    print(\"Thread is running\")\n",
    "\n",
    "my_thread = threading.Thread(target=thread_function)\n",
    "my_thread.start()  # This starts the thread."
   ]
  },
  {
   "cell_type": "code",
   "execution_count": 6,
   "id": "281fa80d-7f7e-4b28-ad19-68f6d7619255",
   "metadata": {},
   "outputs": [
    {
     "name": "stdout",
     "output_type": "stream",
     "text": [
      "Thread is running\n",
      "Main program continues\n"
     ]
    }
   ],
   "source": [
    "#Example Implementation of join()\n",
    "import threading\n",
    "\n",
    "def thread_function():\n",
    "    print(\"Thread is running\")\n",
    "\n",
    "my_thread = threading.Thread(target=thread_function)\n",
    "my_thread.start()  # Start the thread\n",
    "my_thread.join()   # Wait for the thread to finish before proceeding\n",
    "print(\"Main program continues\")"
   ]
  },
  {
   "cell_type": "code",
   "execution_count": 7,
   "id": "2ecaddf0-638d-4492-86c7-dcfb30f2aef4",
   "metadata": {},
   "outputs": [
    {
     "name": "stdout",
     "output_type": "stream",
     "text": [
      "Thread is runningTrue\n",
      "\n",
      "False\n"
     ]
    }
   ],
   "source": [
    "#Example Implementation of isAlive()\n",
    "import threading\n",
    "\n",
    "def thread_function():\n",
    "    print(\"Thread is running\")\n",
    "\n",
    "my_thread = threading.Thread(target=thread_function)\n",
    "my_thread.start()  # Start the thread\n",
    "print(my_thread.is_alive())  # Check if the thread is alive (True)\n",
    "my_thread.join()   # Wait for the thread to finish\n",
    "print(my_thread.is_alive())  # Check if the thread is alive (False)"
   ]
  },
  {
   "cell_type": "markdown",
   "id": "9d5bc749-7aaa-4705-b935-3feef0e4b601",
   "metadata": {},
   "source": [
    "#### Q4. Write a python program to create two threads. Thread one must print the list of squares and thread two must print the list of cubes"
   ]
  },
  {
   "cell_type": "code",
   "execution_count": 8,
   "id": "bfba5855-adc6-4c48-9e96-97b542becf5b",
   "metadata": {},
   "outputs": [
    {
     "name": "stdout",
     "output_type": "stream",
     "text": [
      "Square of the 1 is 1 \n",
      "Square of the 2 is 4 \n",
      "Square of the 3 is 9 \n",
      "Square of the 4 is 16 \n",
      "Square of the 5 is 25 \n",
      "Cube of the 1 is 1 \n",
      "Cube of the 2 is 8 \n",
      "Cube of the 3 is 27 \n",
      "Cube of the 4 is 64 \n",
      "Cube of the 5 is 125 \n",
      "Program completed\n"
     ]
    }
   ],
   "source": [
    "import threading \n",
    "\n",
    "def print_square(num):\n",
    "    for i in num:\n",
    "        sq=i**2\n",
    "        print(f\"Square of the {i} is {sq} \")\n",
    "        \n",
    "def print_cube(num):\n",
    "    for i in num:\n",
    "        cube=i**3\n",
    "        print(f\"Cube of the {i} is {cube} \")\n",
    "        \n",
    "list_num = [1,2,3,4,5]\n",
    "\n",
    "thread1=threading.Thread(target=print_square,args=(list_num,))\n",
    "thread1.start()\n",
    "\n",
    "thread2=threading.Thread(target=print_cube,args=(list_num,))\n",
    "thread2.start()\n",
    "        \n",
    "    \n",
    "thread1.join()\n",
    "thread2.join()\n",
    "\n",
    "print(\"Program completed\")"
   ]
  },
  {
   "cell_type": "markdown",
   "id": "9f9f777c-a855-4b2b-badd-da32ec9d45d5",
   "metadata": {},
   "source": [
    "#### Q5. State advantages and disadvantages of multithreading\n",
    "##### Advantages of Multithreading:\n",
    "Improved Performance: Enables concurrent execution, improving application speed.\n",
    "\n",
    "Responsiveness: Maintains a responsive user interface during background tasks.\n",
    "\n",
    "Resource Sharing: Efficiently shares resources among threads.\n",
    "\n",
    "Scalability: Enhances server applications' ability to handle multiple clients.\n",
    "\n",
    "Modularization: Organizes code into separate threads for readability.\n",
    "##### Disadvantages of Multithreading:\n",
    "\n",
    "Complexity: Adds complexity to code design and debugging.\n",
    "\n",
    "Synchronization Overhead: Synchronization reduces performance gains.\n",
    "\n",
    "Race Conditions: Simultaneous data access can lead to unpredictable behavior.\n",
    "\n",
    "Deadlocks: Threads waiting for each other can freeze the program.\n",
    "\n",
    "Resource Contention: Competition for resources may degrade performance."
   ]
  },
  {
   "cell_type": "markdown",
   "id": "833430e8-3264-4e92-8956-8526bec61335",
   "metadata": {},
   "source": [
    "#### Q6. Explain Deadlock and Race Conditions"
   ]
  },
  {
   "cell_type": "code",
   "execution_count": null,
   "id": "7e180442-67d5-42c6-8cb5-c115b628178f",
   "metadata": {},
   "outputs": [],
   "source": [
    "#### "
   ]
  }
 ],
 "metadata": {
  "kernelspec": {
   "display_name": "Python 3 (ipykernel)",
   "language": "python",
   "name": "python3"
  },
  "language_info": {
   "codemirror_mode": {
    "name": "ipython",
    "version": 3
   },
   "file_extension": ".py",
   "mimetype": "text/x-python",
   "name": "python",
   "nbconvert_exporter": "python",
   "pygments_lexer": "ipython3",
   "version": "3.11.5"
  }
 },
 "nbformat": 4,
 "nbformat_minor": 5
}
